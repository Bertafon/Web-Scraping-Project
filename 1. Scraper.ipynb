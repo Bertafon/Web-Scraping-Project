{
 "cells": [
  {
   "cell_type": "code",
   "execution_count": 1,
   "id": "d5dfa853-4345-4e7f-92fa-9acd447b6f98",
   "metadata": {},
   "outputs": [],
   "source": [
    "import scrapy\n",
    "import logging\n",
    "from scrapy.crawler import CrawlerProcess"
   ]
  },
  {
   "cell_type": "code",
   "execution_count": 2,
   "id": "a5c4d284-ff0b-4bf8-8603-11a7b5cb6519",
   "metadata": {
    "tags": []
   },
   "outputs": [],
   "source": [
    "class ProductsSpider(scrapy.Spider):\n",
    "    \n",
    "    name = 'products'\n",
    "    start_urls = ['https://www.rossmann.pl/kategoria/Perfumy,8512?Page=1&PageSize=96']\n",
    "    \n",
    "    custom_settings = {\n",
    "        'LOG_LEVEL': logging.WARNING,\n",
    "        'FEEDS': {'res1.csv': {'format':'csv'}}\n",
    "        ,'DOWNLOAD_DELAY': 3 \n",
    "        ,'RANDOMIZE_DOWNLOAD_DELAY' : True \n",
    "    }\n",
    "    \n",
    "    def parse_product(self, response):\n",
    "        \n",
    "        xpath_name = '//h1[@class=\"h1\"]/text()'  \n",
    "        xpath_EAN = \"//*[contains(text(), 'Kod EAN')]/following-sibling::text()[1]\" \n",
    "        xpath_price = '//meta[@property=\"product:price:amount\"]/@content' \n",
    "        xpath_price_promo = '//meta[@property=\"product:sale_price:amount\"]/@content' \n",
    "        \n",
    "        name = ''.join(response.xpath(xpath_name).getall())\n",
    "        EAN = response.xpath(xpath_EAN).get()\n",
    "        price = response.xpath(xpath_price).get()\n",
    "        price_promo = response.xpath(xpath_price_promo).get()\n",
    "        \n",
    "        yield {\n",
    "                'Name':name,\n",
    "                'EAN': EAN,\n",
    "                'price': price,\n",
    "                'price promo': price_promo,\n",
    "                'url': response.url\n",
    "                }\n",
    "        \n",
    "    def parse(self,response):\n",
    "        \n",
    "        xpath_url = '//a[@class = \"tile-product__name\"]/@href' # xpath to a product on the page\n",
    "        \n",
    "        # Necessary to switch pages. There is no direct link to the next page.\n",
    "        xpath_last_page = '//a[@aria-label = \"Ostatnia strona\"]/text()' \n",
    "        last_page = int(response.xpath(xpath_last_page).get())\n",
    "        \n",
    "        xpath_current_page = '//input[@type = \"number\"][@class = \"form-control\"]/@value' \n",
    "        current_page = int(response.xpath(xpath_current_page).getall()[-1])\n",
    "        \n",
    "        next_page = f'https://www.rossmann.pl/kategoria/Perfumy,8512?Page={current_page+1}&PageSize=96'\n",
    "        \n",
    "        for url in response.xpath(xpath_url).extract(): # extract all products on the card and loop through each one\n",
    "            href = response.urljoin(url)\n",
    "            yield scrapy.Request(href, self.parse_product) # single product scraping\n",
    "                    \n",
    "        if next_page and current_page<last_page: # switching pages\n",
    "            yield response.follow(next_page, callback=self.parse)"
   ]
  },
  {
   "cell_type": "code",
   "execution_count": 3,
   "id": "116ca33a-49ea-4c6e-8d3d-1382bbe9bfaf",
   "metadata": {
    "tags": []
   },
   "outputs": [
    {
     "name": "stderr",
     "output_type": "stream",
     "text": [
      "2023-07-22 17:45:44 [scrapy.utils.log] INFO: Scrapy 2.7.1 started (bot: scrapybot)\n",
      "2023-07-22 17:45:44 [scrapy.utils.log] INFO: Versions: lxml 4.9.2.0, libxml2 2.9.12, cssselect 1.2.0, parsel 1.7.0, w3lib 2.1.1, Twisted 22.10.0, Python 3.9.4 (tags/v3.9.4:1f2e308, Apr  6 2021, 13:40:21) [MSC v.1928 64 bit (AMD64)], pyOpenSSL 23.0.0 (OpenSSL 3.0.7 1 Nov 2022), cryptography 39.0.0, Platform Windows-10-10.0.19041-SP0\n",
      "2023-07-22 17:45:44 [scrapy.crawler] INFO: Overridden settings:\n",
      "{'DOWNLOAD_DELAY': 3,\n",
      " 'LOG_LEVEL': 30,\n",
      " 'USER_AGENT': 'Mozilla/5.0 (Windows NT 10.0; Win64; x64) AppleWebKit/537.36 '\n",
      "               '(KHTML, like Gecko) Chrome/101.0.4951.34 Safari/537.36'}\n",
      "2023-07-22 17:45:44 [py.warnings] WARNING: c:\\users\\norbert\\appdata\\local\\programs\\python\\python39\\lib\\site-packages\\scrapy\\utils\\request.py:231: ScrapyDeprecationWarning: '2.6' is a deprecated value for the 'REQUEST_FINGERPRINTER_IMPLEMENTATION' setting.\n",
      "\n",
      "It is also the default value. In other words, it is normal to get this warning if you have not defined a value for the 'REQUEST_FINGERPRINTER_IMPLEMENTATION' setting. This is so for backward compatibility reasons, but it will change in a future version of Scrapy.\n",
      "\n",
      "See the documentation of the 'REQUEST_FINGERPRINTER_IMPLEMENTATION' setting for information on how to handle this deprecation.\n",
      "  return cls(crawler)\n",
      "\n"
     ]
    }
   ],
   "source": [
    "process = CrawlerProcess({\n",
    "    'USER_AGENT': 'Mozilla/5.0 (Windows NT 10.0; Win64; x64) AppleWebKit/537.36 (KHTML, like Gecko) Chrome/101.0.4951.34 Safari/537.36'\n",
    "})\n",
    "\n",
    "process.crawl(ProductsSpider)\n",
    "process.start()"
   ]
  }
 ],
 "metadata": {
  "kernelspec": {
   "display_name": "Python 3 (ipykernel)",
   "language": "python",
   "name": "python3"
  },
  "language_info": {
   "codemirror_mode": {
    "name": "ipython",
    "version": 3
   },
   "file_extension": ".py",
   "mimetype": "text/x-python",
   "name": "python",
   "nbconvert_exporter": "python",
   "pygments_lexer": "ipython3",
   "version": "3.9.4"
  }
 },
 "nbformat": 4,
 "nbformat_minor": 5
}
