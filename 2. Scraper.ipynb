{
 "cells": [
  {
   "cell_type": "code",
   "execution_count": 1,
   "id": "97acb3a4-c12b-46d6-b2cf-c5b47bf5f255",
   "metadata": {},
   "outputs": [],
   "source": [
    "import scrapy\n",
    "import logging\n",
    "from scrapy.crawler import CrawlerProcess"
   ]
  },
  {
   "cell_type": "code",
   "execution_count": 2,
   "id": "c08de283-38e6-4ff4-904f-150a0efd3e67",
   "metadata": {
    "tags": []
   },
   "outputs": [],
   "source": [
    "class ProductsSpider(scrapy.Spider):\n",
    "    \n",
    "    name = 'Products'\n",
    "    start_urls = ['https://www.perfumeria.pl/collections/perfumy'] \n",
    "    \n",
    "    custom_settings = {\n",
    "        'LOG_LEVEL': logging.WARNING,\n",
    "        'FEEDS': {'res2.csv': {'format':'csv'}}\n",
    "        ,'DOWNLOAD_DELAY': 3 \n",
    "        ,'RANDOMIZE_DOWNLOAD_DELAY' : True \n",
    "    }\n",
    "    \n",
    "    def parse_product(self,response):\n",
    "        \n",
    "        xpath_name = '//h1[@class=\"product__title\"]/text()'  \n",
    "        xpath_EAN = \"//script[@type='text/javascript' and text()[contains(.,'barcode')]]/text()\" \n",
    "        xpath_price_promo =  '//span[@class = \"price-item price-item--sale price-item--last\"]/text()'  \n",
    "        xpath_price =  '//s[@class = \"price-item price-item--regular\"]/text()' \n",
    "        \n",
    "        name = response.xpath(xpath_name).get()\n",
    "        EAN = response.xpath(xpath_EAN).getall()[-1].split(\"barcode\")[1].split(\"}]\")[0].replace('\":',\"\").replace('\"',\"\")\n",
    "        price_promo = response.xpath(xpath_price_promo).get().replace(\" zł PLN\",\"\").replace(\",\",\".\")\n",
    "        price = response.xpath(xpath_price).get().replace(\" zł PLN\",\"\").replace(\",\",\".\").strip()\n",
    "        \n",
    "        yield {\n",
    "                'Name': name,\n",
    "                'EAN': EAN,\n",
    "                'price': price,\n",
    "                'price promo': price_promo,\n",
    "                'url': response.url\n",
    "                }\n",
    "\n",
    "    def parse(self,response):\n",
    "        \n",
    "        xpath_url = '//a[@class = \"full-unstyled-link\"]/@href' # link to the product\n",
    "        xpath_next_page = '//link[@rel = \"next\"]/@href' # link to next page\n",
    "        \n",
    "        selection = response.xpath(xpath_url)\n",
    "        \n",
    "        for s in selection: \n",
    "            href = 'https://www.perfumeria.pl' + s.get()\n",
    "            yield scrapy.Request(href, self.parse_product) \n",
    "            \n",
    "        next_page = response.xpath(xpath_next_page).get()\n",
    "        if next_page:\n",
    "            yield response.follow('https://www.perfumeria.pl' + next_page, callback=self.parse)"
   ]
  },
  {
   "cell_type": "code",
   "execution_count": 3,
   "id": "a8ea8a4f-2ffc-4517-8f2e-a92305706653",
   "metadata": {
    "tags": []
   },
   "outputs": [
    {
     "name": "stderr",
     "output_type": "stream",
     "text": [
      "2023-07-22 20:28:57 [scrapy.utils.log] INFO: Scrapy 2.7.1 started (bot: scrapybot)\n",
      "2023-07-22 20:28:57 [scrapy.utils.log] INFO: Versions: lxml 4.9.2.0, libxml2 2.9.12, cssselect 1.2.0, parsel 1.7.0, w3lib 2.1.1, Twisted 22.10.0, Python 3.9.4 (tags/v3.9.4:1f2e308, Apr  6 2021, 13:40:21) [MSC v.1928 64 bit (AMD64)], pyOpenSSL 23.0.0 (OpenSSL 3.0.7 1 Nov 2022), cryptography 39.0.0, Platform Windows-10-10.0.19041-SP0\n",
      "2023-07-22 20:28:57 [scrapy.crawler] INFO: Overridden settings:\n",
      "{'LOG_LEVEL': 30,\n",
      " 'USER_AGENT': 'Mozilla/5.0 (Windows NT 10.0; Win64; x64) AppleWebKit/537.36 '\n",
      "               '(KHTML, like Gecko) Chrome/101.0.4951.34 Safari/537.36'}\n",
      "2023-07-22 20:28:57 [py.warnings] WARNING: c:\\users\\norbert\\appdata\\local\\programs\\python\\python39\\lib\\site-packages\\scrapy\\utils\\request.py:231: ScrapyDeprecationWarning: '2.6' is a deprecated value for the 'REQUEST_FINGERPRINTER_IMPLEMENTATION' setting.\n",
      "\n",
      "It is also the default value. In other words, it is normal to get this warning if you have not defined a value for the 'REQUEST_FINGERPRINTER_IMPLEMENTATION' setting. This is so for backward compatibility reasons, but it will change in a future version of Scrapy.\n",
      "\n",
      "See the documentation of the 'REQUEST_FINGERPRINTER_IMPLEMENTATION' setting for information on how to handle this deprecation.\n",
      "  return cls(crawler)\n",
      "\n"
     ]
    }
   ],
   "source": [
    "process = CrawlerProcess({\n",
    "    'USER_AGENT': 'Mozilla/5.0 (Windows NT 10.0; Win64; x64) AppleWebKit/537.36 (KHTML, like Gecko) Chrome/101.0.4951.34 Safari/537.36'\n",
    "})\n",
    "\n",
    "process.crawl(ProductsSpider)\n",
    "process.start()"
   ]
  }
 ],
 "metadata": {
  "kernelspec": {
   "display_name": "Python 3 (ipykernel)",
   "language": "python",
   "name": "python3"
  },
  "language_info": {
   "codemirror_mode": {
    "name": "ipython",
    "version": 3
   },
   "file_extension": ".py",
   "mimetype": "text/x-python",
   "name": "python",
   "nbconvert_exporter": "python",
   "pygments_lexer": "ipython3",
   "version": "3.9.4"
  }
 },
 "nbformat": 4,
 "nbformat_minor": 5
}
