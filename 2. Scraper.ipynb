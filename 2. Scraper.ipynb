{
 "cells": [
  {
   "cell_type": "code",
   "execution_count": 1,
   "id": "97acb3a4-c12b-46d6-b2cf-c5b47bf5f255",
   "metadata": {},
   "outputs": [],
   "source": [
    "import scrapy\n",
    "import json\n",
    "import logging\n",
    "import pandas as pd\n",
    "import numpy as np\n",
    "from scrapy.crawler import CrawlerProcess"
   ]
  },
  {
   "cell_type": "code",
   "execution_count": 2,
   "id": "9cb8de85-7987-43ef-80f8-de8ca1659139",
   "metadata": {},
   "outputs": [],
   "source": [
    "url = 'https://www.perfumeria.pl/collections/perfumy' # link do kategorii"
   ]
  },
  {
   "cell_type": "code",
   "execution_count": 3,
   "id": "7db075de-9e2e-471b-a5d6-55dd2f780282",
   "metadata": {},
   "outputs": [],
   "source": [
    "# format pliku wynikowego\n",
    "class JsonWriterPipeline(object):\n",
    "\n",
    "    def open_spider(self, spider):\n",
    "        self.file = open('output.jl', 'w')\n",
    "\n",
    "    def close_spider(self, spider):\n",
    "        self.file.close()\n",
    "\n",
    "    def process_item(self, item, spider):\n",
    "        line = json.dumps(dict(item)) + \"\\n\"\n",
    "        self.file.write(line)\n",
    "        return item"
   ]
  },
  {
   "cell_type": "code",
   "execution_count": 4,
   "id": "c08de283-38e6-4ff4-904f-150a0efd3e67",
   "metadata": {
    "tags": []
   },
   "outputs": [],
   "source": [
    "class ProductsSpider(scrapy.Spider):\n",
    "    \n",
    "    name = 'Products'\n",
    "    start_urls = [url] \n",
    "    \n",
    "    custom_settings = {\n",
    "        'LOG_LEVEL': logging.WARNING,\n",
    "        'ITEM_PIPELINES': {'__main__.JsonWriterPipeline': 1}, \n",
    "        'FEED_FORMAT':'json',                                 \n",
    "        'FEED_URI': 'output.json'\n",
    "        ,'DOWNLOAD_DELAY': 3 # opóźnienie w sekundach\n",
    "        ,'RANDOMIZE_DOWNLOAD_DELAY' : True # losowość opóźnień: (0.5,1.5)*lag\n",
    "    }\n",
    "    \n",
    "    def parse_product(self,response):\n",
    "        \n",
    "        # scrapowanie danego produktu\n",
    "        xpath_name = '//div[@class=\"col-info\"]/h1/text()' # ścieżka do nazwy \n",
    "        xpath_EAN = \"//script[@type='application/json' and text()[contains(.,'barcode')]]/text()\" # ścieżka do kodu EAN\n",
    "        xpath_cena =  '//p[@id = \"ProductPrice\"]/text()' # ścieżka do ceny promocyjnej\n",
    "        xpath_regural =  '//span[@class = \"price__sale\"]/text()' # ścieżka do ceny regularnej\n",
    "        \n",
    "        name = response.xpath(xpath_name).get()\n",
    "        EAN = str(json.loads(response.xpath(xpath_EAN).get())['variants'][0]['barcode'])\n",
    "        cena = response.xpath(xpath_cena).get()\n",
    "        regural = response.xpath(xpath_regural).get()\n",
    "        \n",
    "        yield {\n",
    "                'Name': name,\n",
    "                'EAN': EAN,\n",
    "                'cena': regural,\n",
    "                'cena promo': cena,\n",
    "                'url': response.url\n",
    "                }\n",
    "        \n",
    "        # scrapowanie poszczególnych wariantów produktów. Dany produkt może mieć kilka wariantów objętościowych\n",
    "        xpath_option = '//div[@class = \"option\" and @data-value]//@href' # ścieżka do poszczególnych wariantów\n",
    "\n",
    "        links = list(set(response.xpath(xpath_option).extract())) # tworzę unikalną listę wariantów (w kodzie HTML linki powtarzają się)\n",
    "        links = ['https://www.perfumeria.pl' + x for x in links] # lista linków do kolejnych wariantów\n",
    "        \n",
    "        yield from response.follow_all(links, callback=self.parse_product) # kontynuuj scrapowanie dla każdego z nich\n",
    "\n",
    "    def parse(self,response):\n",
    "        \n",
    "        xpath_url = '//a[@class = \"product-img\"]/@href' # link do produktu na karcie\n",
    "        xpath_next_page = '//li[@class = \"page__next\"]/a/@href' # link do następnej karty\n",
    "        \n",
    "        selection = response.xpath(xpath_url) # produkty na danej zakladce\n",
    "        \n",
    "        for s in selection: # scrapowanie produktow na karcie\n",
    "            href = 'https://www.perfumeria.pl' + s.get()\n",
    "            yield scrapy.Request(href, self.parse_product) \n",
    "            \n",
    "        next_page = response.xpath(xpath_next_page).get() # przechodzenie do nastepnej karty. Na potrzebe prezentacji wyłączone, żeby oszczędzić czas\n",
    "        if next_page:\n",
    "            yield response.follow('https://www.perfumeria.pl' + next_page, callback=self.parse)"
   ]
  },
  {
   "cell_type": "code",
   "execution_count": 5,
   "id": "a8ea8a4f-2ffc-4517-8f2e-a92305706653",
   "metadata": {},
   "outputs": [
    {
     "name": "stderr",
     "output_type": "stream",
     "text": [
      "2023-02-03 01:52:47 [scrapy.utils.log] INFO: Scrapy 2.7.1 started (bot: scrapybot)\n",
      "2023-02-03 01:52:47 [scrapy.utils.log] INFO: Versions: lxml 4.9.2.0, libxml2 2.9.12, cssselect 1.2.0, parsel 1.7.0, w3lib 2.1.1, Twisted 22.10.0, Python 3.9.4 (tags/v3.9.4:1f2e308, Apr  6 2021, 13:40:21) [MSC v.1928 64 bit (AMD64)], pyOpenSSL 23.0.0 (OpenSSL 3.0.7 1 Nov 2022), cryptography 39.0.0, Platform Windows-10-10.0.19041-SP0\n",
      "2023-02-03 01:52:47 [scrapy.crawler] INFO: Overridden settings:\n",
      "{'LOG_LEVEL': 30,\n",
      " 'USER_AGENT': 'Mozilla/5.0 (Windows NT 10.0; Win64; x64) AppleWebKit/537.36 '\n",
      "               '(KHTML, like Gecko) Chrome/101.0.4951.34 Safari/537.36'}\n",
      "2023-02-03 01:52:47 [py.warnings] WARNING: c:\\users\\norbert\\appdata\\local\\programs\\python\\python39\\lib\\site-packages\\scrapy\\utils\\request.py:231: ScrapyDeprecationWarning: '2.6' is a deprecated value for the 'REQUEST_FINGERPRINTER_IMPLEMENTATION' setting.\n",
      "\n",
      "It is also the default value. In other words, it is normal to get this warning if you have not defined a value for the 'REQUEST_FINGERPRINTER_IMPLEMENTATION' setting. This is so for backward compatibility reasons, but it will change in a future version of Scrapy.\n",
      "\n",
      "See the documentation of the 'REQUEST_FINGERPRINTER_IMPLEMENTATION' setting for information on how to handle this deprecation.\n",
      "  return cls(crawler)\n",
      "\n",
      "2023-02-03 01:52:47 [py.warnings] WARNING: c:\\users\\norbert\\appdata\\local\\programs\\python\\python39\\lib\\site-packages\\scrapy\\extensions\\feedexport.py:289: ScrapyDeprecationWarning: The `FEED_URI` and `FEED_FORMAT` settings have been deprecated in favor of the `FEEDS` setting. Please see the `FEEDS` setting docs for more details\n",
      "  exporter = cls(crawler)\n",
      "\n"
     ]
    }
   ],
   "source": [
    "process = CrawlerProcess({\n",
    "    'USER_AGENT': 'Mozilla/5.0 (Windows NT 10.0; Win64; x64) AppleWebKit/537.36 (KHTML, like Gecko) Chrome/101.0.4951.34 Safari/537.36'\n",
    "})\n",
    "\n",
    "process.crawl(ProductsSpider)\n",
    "process.start()"
   ]
  },
  {
   "cell_type": "code",
   "execution_count": 6,
   "id": "ac252de9-fac1-447c-b864-669d8323ead4",
   "metadata": {},
   "outputs": [],
   "source": [
    "dfjl = pd.read_json('output.jl', lines=True, dtype = str)\n",
    "# usunięcie pustych znaków\n",
    "dfjl['cena'] = dfjl['cena'].apply(lambda x: x.strip() if type(x) == str else x)\n",
    "# # przesunięcie cen w lewo. Na stronie cena promo jest jako zwykła \n",
    "dfjl[\"cena\"] = np.where(dfjl['cena'] == 'None', dfjl[\"cena promo\"], dfjl[\"cena\"])\n",
    "dfjl[\"cena promo\"] =np.where(dfjl[\"cena promo\"] == dfjl[\"cena\"], '', dfjl['cena promo'])\n",
    "dfjl = dfjl[dfjl['cena promo'] != 'None']\n",
    "# # usunięcie ' zł' z ceny i zamiana na liczbe\n",
    "dfjl['cena promo'] = dfjl['cena promo'].apply(lambda x: x.replace(' zł','').replace(',','.') if type(x) == str else x)\n",
    "dfjl['cena'] = dfjl['cena'].apply(lambda x: x.replace(' zł','').replace(',','.') if type(x) == str else x)\n",
    "# zostawiam tylko promocje\n",
    "dfjl_ = dfjl[dfjl['cena promo'] != ''] # możliwe, że na stronie nie będzie żadnych promocji i zostanie pusty df\n",
    "# zamiana typu danych\n",
    "dfjl_ = dfjl_.astype({'cena promo':'float','cena':'float'})"
   ]
  },
  {
   "cell_type": "code",
   "execution_count": 7,
   "id": "8ecbf250-31b5-44e2-8bf6-5744613cb611",
   "metadata": {},
   "outputs": [],
   "source": [
    "# zapisanie do excela\n",
    "dfjl_.to_excel('Wynik2.xlsx', sheet_name='Arkusz', index = False, freeze_panes = [1,0])"
   ]
  }
 ],
 "metadata": {
  "kernelspec": {
   "display_name": "Python 3 (ipykernel)",
   "language": "python",
   "name": "python3"
  },
  "language_info": {
   "codemirror_mode": {
    "name": "ipython",
    "version": 3
   },
   "file_extension": ".py",
   "mimetype": "text/x-python",
   "name": "python",
   "nbconvert_exporter": "python",
   "pygments_lexer": "ipython3",
   "version": "3.9.4"
  }
 },
 "nbformat": 4,
 "nbformat_minor": 5
}
